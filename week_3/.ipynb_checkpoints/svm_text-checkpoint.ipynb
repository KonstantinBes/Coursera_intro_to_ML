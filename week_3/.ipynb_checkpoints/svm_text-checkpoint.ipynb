{
 "cells": [
  {
   "cell_type": "code",
   "execution_count": 5,
   "metadata": {},
   "outputs": [],
   "source": [
    "import pandas as pd\n",
    "import numpy as np\n",
    "\n",
    "from sklearn import datasets\n",
    "\n",
    "from sklearn.feature_extraction.text import TfidfVectorizer\n",
    "from sklearn.svm import SVC\n",
    "from sklearn.model_selection import KFold\n",
    "from sklearn.model_selection import GridSearchCV"
   ]
  },
  {
   "cell_type": "code",
   "execution_count": 6,
   "metadata": {},
   "outputs": [
    {
     "data": {
      "text/plain": [
       "dict_keys(['data', 'filenames', 'target_names', 'target', 'DESCR'])"
      ]
     },
     "execution_count": 6,
     "metadata": {},
     "output_type": "execute_result"
    }
   ],
   "source": [
    "newsgroups = datasets.fetch_20newsgroups(\n",
    "                    subset='all', \n",
    "                    categories=['alt.atheism', 'sci.space']\n",
    "             )\n",
    "newsgroups.keys()"
   ]
  },
  {
   "cell_type": "code",
   "execution_count": 7,
   "metadata": {},
   "outputs": [
    {
     "data": {
      "text/plain": [
       "<1786x28382 sparse matrix of type '<class 'numpy.float64'>'\n",
       "\twith 303138 stored elements in Compressed Sparse Row format>"
      ]
     },
     "execution_count": 7,
     "metadata": {},
     "output_type": "execute_result"
    }
   ],
   "source": [
    "vectorizer = TfidfVectorizer()\n",
    "X = vectorizer.fit_transform(newsgroups.data)\n",
    "X"
   ]
  },
  {
   "cell_type": "code",
   "execution_count": 8,
   "metadata": {},
   "outputs": [
    {
     "data": {
      "text/plain": [
       "array([0, 0, 1, ..., 1, 1, 0], dtype=int64)"
      ]
     },
     "execution_count": 8,
     "metadata": {},
     "output_type": "execute_result"
    }
   ],
   "source": [
    "y = newsgroups.target\n",
    "y"
   ]
  },
  {
   "cell_type": "code",
   "execution_count": 11,
   "metadata": {},
   "outputs": [
    {
     "data": {
      "text/plain": [
       "SVC(kernel='linear', random_state=241)"
      ]
     },
     "execution_count": 11,
     "metadata": {},
     "output_type": "execute_result"
    }
   ],
   "source": [
    "clf = SVC(kernel='linear', random_state=241)\n",
    "grid = {'C': np.power(10.0, np.arange(-5, 6))}\n",
    "cv = KFold(n_splits=5, shuffle=True, random_state=241)\n",
    "clf"
   ]
  },
  {
   "cell_type": "code",
   "execution_count": 12,
   "metadata": {},
   "outputs": [
    {
     "data": {
      "text/plain": [
       "GridSearchCV(cv=KFold(n_splits=5, random_state=241, shuffle=True),\n",
       "             estimator=SVC(kernel='linear', random_state=241), n_jobs=-1,\n",
       "             param_grid={'C': array([1.e-05, 1.e-04, 1.e-03, 1.e-02, 1.e-01, 1.e+00, 1.e+01, 1.e+02,\n",
       "       1.e+03, 1.e+04, 1.e+05])},\n",
       "             scoring='accuracy')"
      ]
     },
     "execution_count": 12,
     "metadata": {},
     "output_type": "execute_result"
    }
   ],
   "source": [
    "gs = GridSearchCV(clf, grid, scoring='accuracy', cv=cv, n_jobs=-1)\n",
    "gs.fit(X, y)"
   ]
  },
  {
   "cell_type": "code",
   "execution_count": 14,
   "metadata": {},
   "outputs": [
    {
     "data": {
      "text/plain": [
       "({'mean_fit_time': array([3.08244991, 3.12326212, 3.24821668, 3.12564502, 2.64679885,\n",
       "         1.62092957, 1.6146584 , 1.63785725, 1.63765383, 1.54781899,\n",
       "         1.37443728]),\n",
       "  'std_fit_time': array([0.02710916, 0.04318844, 0.04862886, 0.04265586, 0.03753966,\n",
       "         0.02518633, 0.02408809, 0.0328495 , 0.02596519, 0.08893224,\n",
       "         0.0423318 ]),\n",
       "  'mean_score_time': array([0.72770343, 0.72138925, 0.72187824, 0.72894588, 0.6064992 ,\n",
       "         0.35367451, 0.36341219, 0.36688194, 0.35966768, 0.31978855,\n",
       "         0.27174053]),\n",
       "  'std_score_time': array([0.01003025, 0.00884059, 0.0082745 , 0.01330377, 0.00645101,\n",
       "         0.0090596 , 0.00947888, 0.02019623, 0.01468391, 0.02278867,\n",
       "         0.01428819]),\n",
       "  'param_C': masked_array(data=[1e-05, 0.0001, 0.001, 0.01, 0.1, 1.0, 10.0, 100.0,\n",
       "                     1000.0, 10000.0, 100000.0],\n",
       "               mask=[False, False, False, False, False, False, False, False,\n",
       "                     False, False, False],\n",
       "         fill_value='?',\n",
       "              dtype=object),\n",
       "  'params': [{'C': 1e-05},\n",
       "   {'C': 0.0001},\n",
       "   {'C': 0.001},\n",
       "   {'C': 0.01},\n",
       "   {'C': 0.1},\n",
       "   {'C': 1.0},\n",
       "   {'C': 10.0},\n",
       "   {'C': 100.0},\n",
       "   {'C': 1000.0},\n",
       "   {'C': 10000.0},\n",
       "   {'C': 100000.0}],\n",
       "  'split0_test_score': array([0.54469274, 0.54469274, 0.54469274, 0.54469274, 0.95810056,\n",
       "         0.99441341, 0.99441341, 0.99441341, 0.99441341, 0.99441341,\n",
       "         0.99441341]),\n",
       "  'split1_test_score': array([0.57983193, 0.57983193, 0.57983193, 0.57983193, 0.94957983,\n",
       "         0.9859944 , 0.9859944 , 0.9859944 , 0.9859944 , 0.9859944 ,\n",
       "         0.9859944 ]),\n",
       "  'split2_test_score': array([0.57142857, 0.57142857, 0.57142857, 0.57142857, 0.95798319,\n",
       "         1.        , 1.        , 1.        , 1.        , 1.        ,\n",
       "         1.        ]),\n",
       "  'split3_test_score': array([0.50140056, 0.50140056, 0.50140056, 0.50140056, 0.93557423,\n",
       "         0.99159664, 0.99159664, 0.99159664, 0.99159664, 0.99159664,\n",
       "         0.99159664]),\n",
       "  'split4_test_score': array([0.56582633, 0.56582633, 0.56582633, 0.56582633, 0.94957983,\n",
       "         0.99439776, 0.99439776, 0.99439776, 0.99439776, 0.99439776,\n",
       "         0.99439776]),\n",
       "  'mean_test_score': array([0.55263603, 0.55263603, 0.55263603, 0.55263603, 0.95016353,\n",
       "         0.99328044, 0.99328044, 0.99328044, 0.99328044, 0.99328044,\n",
       "         0.99328044]),\n",
       "  'std_test_score': array([0.02812447, 0.02812447, 0.02812447, 0.02812447, 0.00821794,\n",
       "         0.00455206, 0.00455206, 0.00455206, 0.00455206, 0.00455206,\n",
       "         0.00455206]),\n",
       "  'rank_test_score': array([8, 8, 8, 8, 7, 1, 1, 1, 1, 1, 1])},\n",
       " {'C': 1.0})"
      ]
     },
     "execution_count": 14,
     "metadata": {},
     "output_type": "execute_result"
    }
   ],
   "source": [
    "gs.cv_results_, gs.best_params_"
   ]
  },
  {
   "cell_type": "code",
   "execution_count": 15,
   "metadata": {},
   "outputs": [
    {
     "data": {
      "text/plain": [
       "{'C': 1.0,\n",
       " 'break_ties': False,\n",
       " 'cache_size': 200,\n",
       " 'class_weight': None,\n",
       " 'coef0': 0.0,\n",
       " 'decision_function_shape': 'ovr',\n",
       " 'degree': 3,\n",
       " 'gamma': 'scale',\n",
       " 'kernel': 'linear',\n",
       " 'max_iter': -1,\n",
       " 'probability': False,\n",
       " 'random_state': 241,\n",
       " 'shrinking': True,\n",
       " 'tol': 0.001,\n",
       " 'verbose': False}"
      ]
     },
     "execution_count": 15,
     "metadata": {},
     "output_type": "execute_result"
    }
   ],
   "source": [
    "clf.get_params()"
   ]
  },
  {
   "cell_type": "code",
   "execution_count": 16,
   "metadata": {},
   "outputs": [
    {
     "data": {
      "text/plain": [
       "SVC(kernel='linear', random_state=241)"
      ]
     },
     "execution_count": 16,
     "metadata": {},
     "output_type": "execute_result"
    }
   ],
   "source": [
    "clf.fit(X, y)"
   ]
  },
  {
   "cell_type": "code",
   "execution_count": 20,
   "metadata": {},
   "outputs": [
    {
     "data": {
      "text/plain": [
       "<1x28382 sparse matrix of type '<class 'numpy.float64'>'\n",
       "\twith 18404 stored elements in Compressed Sparse Row format>"
      ]
     },
     "execution_count": 20,
     "metadata": {},
     "output_type": "execute_result"
    }
   ],
   "source": [
    "res_sparse = clf.coef_\n",
    "res_sparse"
   ]
  },
  {
   "cell_type": "code",
   "execution_count": 26,
   "metadata": {},
   "outputs": [
    {
     "data": {
      "text/plain": [
       "(matrix([[ 0.29258057, -0.12314757,  0.        , ...,  0.01972862,\n",
       "           0.05831336, -0.00297347]]),\n",
       " (1, 28382))"
      ]
     },
     "execution_count": 26,
     "metadata": {},
     "output_type": "execute_result"
    }
   ],
   "source": [
    "res_dense = res_sparse.todense()\n",
    "res_dense, res_dense.shape"
   ]
  },
  {
   "cell_type": "code",
   "execution_count": 40,
   "metadata": {},
   "outputs": [
    {
     "data": {
      "text/plain": [
       "array([22936, 15606,  5776, 21850, 23673, 17802,  5093,  5088, 12871,\n",
       "       24019], dtype=int64)"
      ]
     },
     "execution_count": 40,
     "metadata": {},
     "output_type": "execute_result"
    }
   ],
   "source": [
    "weights = np.asarray(res_dense)\n",
    "max_weights = np.argsort(np.abs(weights.reshape(-1)))[-10:]\n",
    "max_weights"
   ]
  },
  {
   "cell_type": "code",
   "execution_count": 68,
   "metadata": {},
   "outputs": [
    {
     "name": "stdout",
     "output_type": "stream",
     "text": [
      "atheism\n",
      "atheists\n",
      "bible\n",
      "god\n",
      "keith\n",
      "moon\n",
      "religion\n",
      "sci\n",
      "sky\n",
      "space\n"
     ]
    }
   ],
   "source": [
    "result_list = []\n",
    "with open('D:/Work/Data_files/working_dir/task_2.txt', 'w') as f:\n",
    "    for weight in max_weights:\n",
    "        result_list.append(vectorizer.get_feature_names()[weight]) \n",
    "    result_list.sort()\n",
    "    for word in result_list:\n",
    "        print(\"%s\"%word)\n",
    "        f.write(\"%s,\"%word)"
   ]
  },
  {
   "cell_type": "code",
   "execution_count": null,
   "metadata": {},
   "outputs": [],
   "source": []
  }
 ],
 "metadata": {
  "kernelspec": {
   "display_name": "Python 3",
   "language": "python",
   "name": "python3"
  },
  "language_info": {
   "codemirror_mode": {
    "name": "ipython",
    "version": 3
   },
   "file_extension": ".py",
   "mimetype": "text/x-python",
   "name": "python",
   "nbconvert_exporter": "python",
   "pygments_lexer": "ipython3",
   "version": "3.7.1"
  }
 },
 "nbformat": 4,
 "nbformat_minor": 4
}
